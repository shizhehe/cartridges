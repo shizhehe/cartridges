{
 "cells": [
  {
   "cell_type": "code",
   "execution_count": 1,
   "metadata": {},
   "outputs": [],
   "source": [
    "%load_ext autoreload\n",
    "%autoreload 2"
   ]
  },
  {
   "cell_type": "code",
   "execution_count": 2,
   "metadata": {},
   "outputs": [
    {
     "name": "stderr",
     "output_type": "stream",
     "text": [
      "/home/sabri/miniconda3/envs/cartridges12/lib/python3.12/site-packages/tqdm/auto.py:21: TqdmWarning: IProgress not found. Please update jupyter and ipywidgets. See https://ipywidgets.readthedocs.io/en/stable/user_install.html\n",
      "  from .autonotebook import tqdm as notebook_tqdm\n"
     ]
    }
   ],
   "source": [
    "from cartridges.utils.wandb import fetch_wandb_table\n",
    "import pandas as pd"
   ]
  },
  {
   "cell_type": "code",
   "execution_count": 35,
   "metadata": {},
   "outputs": [
    {
     "name": "stderr",
     "output_type": "stream",
     "text": [
      "\u001b[34m\u001b[1mwandb\u001b[0m:   1 of 1 files downloaded.  \n",
      "\u001b[34m\u001b[1mwandb\u001b[0m:   1 of 1 files downloaded.  \n"
     ]
    },
    {
     "name": "stdout",
     "output_type": "stream",
     "text": [
      "method\n",
      "icl_baseline    0.604167\n",
      "self-study      0.482143\n",
      "Name: score, dtype: float64\n",
      "method        depth\n",
      "icl_baseline  1        0.774194\n",
      "              2        0.312500\n",
      "              3        0.000000\n",
      "self-study    1        0.821429\n",
      "              2        0.166667\n",
      "              3        0.100000\n",
      "Name: score, dtype: float64\n"
     ]
    }
   ],
   "source": [
    "RUNS = {\n",
    "    \"icl_baseline\": (\"hazy-research/cartridges/xg6vqt7a\", [\"v0\"]),\n",
    "    \"self-study\": (\"hazy-research/cartridges/wxmgty6o\", \"latest\"),\n",
    "}\n",
    "\n",
    "dfs = []\n",
    "for name, run_id in RUNS.items():\n",
    "    df: pd.DataFrame = fetch_wandb_table(\n",
    "        run_id=run_id[0],\n",
    "        versions=run_id[1],\n",
    "    )\n",
    "    df[\"method\"] = name\n",
    "    dfs.append(df)\n",
    "\n",
    "df = pd.concat(dfs)\n",
    "print(df.groupby(\"method\")[\"score\"].mean())\n",
    "print(df.groupby([\"method\", \"depth\"])[\"score\"].mean())"
   ]
  },
  {
   "cell_type": "code",
   "execution_count": 5,
   "metadata": {},
   "outputs": [
    {
     "ename": "CommError",
     "evalue": "artifact 'codehop_synthesize_llama_repo-244c02_level1_n1024:v0,' not found in 'hazy-research/cartridges'",
     "output_type": "error",
     "traceback": [
      "\u001b[31m---------------------------------------------------------------------------\u001b[39m",
      "\u001b[31mValueError\u001b[39m                                Traceback (most recent call last)",
      "\u001b[36mFile \u001b[39m\u001b[32m~/miniconda3/envs/cartridges12/lib/python3.12/site-packages/wandb/apis/normalize.py:25\u001b[39m, in \u001b[36mnormalize_exceptions.<locals>.wrapper\u001b[39m\u001b[34m(*args, **kwargs)\u001b[39m\n\u001b[32m     24\u001b[39m \u001b[38;5;28;01mtry\u001b[39;00m:\n\u001b[32m---> \u001b[39m\u001b[32m25\u001b[39m     \u001b[38;5;28;01mreturn\u001b[39;00m \u001b[43mfunc\u001b[49m\u001b[43m(\u001b[49m\u001b[43m*\u001b[49m\u001b[43margs\u001b[49m\u001b[43m,\u001b[49m\u001b[43m \u001b[49m\u001b[43m*\u001b[49m\u001b[43m*\u001b[49m\u001b[43mkwargs\u001b[49m\u001b[43m)\u001b[49m\n\u001b[32m     27\u001b[39m \u001b[38;5;28;01mexcept\u001b[39;00m requests.HTTPError \u001b[38;5;28;01mas\u001b[39;00m error:\n",
      "\u001b[36mFile \u001b[39m\u001b[32m~/miniconda3/envs/cartridges12/lib/python3.12/site-packages/wandb/apis/public/api.py:1315\u001b[39m, in \u001b[36mApi._artifact\u001b[39m\u001b[34m(self, name, type, enable_tracking)\u001b[39m\n\u001b[32m   1311\u001b[39m     \u001b[38;5;28;01mraise\u001b[39;00m \u001b[38;5;167;01mValueError\u001b[39;00m(\n\u001b[32m   1312\u001b[39m         \u001b[33m\"\u001b[39m\u001b[33mCould not determine entity. Please include the entity as part of the artifact name path.\u001b[39m\u001b[33m\"\u001b[39m\n\u001b[32m   1313\u001b[39m     )\n\u001b[32m-> \u001b[39m\u001b[32m1315\u001b[39m artifact = \u001b[43mwandb\u001b[49m\u001b[43m.\u001b[49m\u001b[43mArtifact\u001b[49m\u001b[43m.\u001b[49m\u001b[43m_from_name\u001b[49m\u001b[43m(\u001b[49m\n\u001b[32m   1316\u001b[39m \u001b[43m    \u001b[49m\u001b[43mentity\u001b[49m\u001b[43m=\u001b[49m\u001b[43mentity\u001b[49m\u001b[43m,\u001b[49m\n\u001b[32m   1317\u001b[39m \u001b[43m    \u001b[49m\u001b[43mproject\u001b[49m\u001b[43m=\u001b[49m\u001b[43mproject\u001b[49m\u001b[43m,\u001b[49m\n\u001b[32m   1318\u001b[39m \u001b[43m    \u001b[49m\u001b[43mname\u001b[49m\u001b[43m=\u001b[49m\u001b[43martifact_name\u001b[49m\u001b[43m,\u001b[49m\n\u001b[32m   1319\u001b[39m \u001b[43m    \u001b[49m\u001b[43mclient\u001b[49m\u001b[43m=\u001b[49m\u001b[38;5;28;43mself\u001b[39;49m\u001b[43m.\u001b[49m\u001b[43mclient\u001b[49m\u001b[43m,\u001b[49m\n\u001b[32m   1320\u001b[39m \u001b[43m    \u001b[49m\u001b[43menable_tracking\u001b[49m\u001b[43m=\u001b[49m\u001b[43menable_tracking\u001b[49m\u001b[43m,\u001b[49m\n\u001b[32m   1321\u001b[39m \u001b[43m\u001b[49m\u001b[43m)\u001b[49m\n\u001b[32m   1322\u001b[39m \u001b[38;5;28;01mif\u001b[39;00m \u001b[38;5;28mtype\u001b[39m \u001b[38;5;129;01mis\u001b[39;00m \u001b[38;5;129;01mnot\u001b[39;00m \u001b[38;5;28;01mNone\u001b[39;00m \u001b[38;5;129;01mand\u001b[39;00m artifact.type != \u001b[38;5;28mtype\u001b[39m:\n",
      "\u001b[36mFile \u001b[39m\u001b[32m~/miniconda3/envs/cartridges12/lib/python3.12/site-packages/wandb/sdk/artifacts/artifact.py:311\u001b[39m, in \u001b[36mArtifact._from_name\u001b[39m\u001b[34m(cls, entity, project, name, client, enable_tracking)\u001b[39m\n\u001b[32m    310\u001b[39m \u001b[38;5;28;01mif\u001b[39;00m \u001b[38;5;129;01mnot\u001b[39;00m attrs:\n\u001b[32m--> \u001b[39m\u001b[32m311\u001b[39m     \u001b[38;5;28;01mraise\u001b[39;00m \u001b[38;5;167;01mValueError\u001b[39;00m(\u001b[33mf\u001b[39m\u001b[33m\"\u001b[39m\u001b[33martifact \u001b[39m\u001b[33m'\u001b[39m\u001b[38;5;132;01m{\u001b[39;00mname\u001b[38;5;132;01m}\u001b[39;00m\u001b[33m'\u001b[39m\u001b[33m not found in \u001b[39m\u001b[33m'\u001b[39m\u001b[38;5;132;01m{\u001b[39;00mentity\u001b[38;5;132;01m}\u001b[39;00m\u001b[33m/\u001b[39m\u001b[38;5;132;01m{\u001b[39;00mproject\u001b[38;5;132;01m}\u001b[39;00m\u001b[33m'\u001b[39m\u001b[33m\"\u001b[39m)\n\u001b[32m    312\u001b[39m \u001b[38;5;28;01mreturn\u001b[39;00m \u001b[38;5;28mcls\u001b[39m._from_attrs(entity, project, name, attrs, client)\n",
      "\u001b[31mValueError\u001b[39m: artifact 'codehop_synthesize_llama_repo-244c02_level1_n1024:v0,' not found in 'hazy-research/cartridges'",
      "\nDuring handling of the above exception, another exception occurred:\n",
      "\u001b[31mCommError\u001b[39m                                 Traceback (most recent call last)",
      "\u001b[36mCell\u001b[39m\u001b[36m \u001b[39m\u001b[32mIn[5]\u001b[39m\u001b[32m, line 2\u001b[39m\n\u001b[32m      1\u001b[39m \u001b[38;5;28;01mfrom\u001b[39;00m\u001b[38;5;250m \u001b[39m\u001b[34;01mcartridges\u001b[39;00m\u001b[34;01m.\u001b[39;00m\u001b[34;01mutils\u001b[39;00m\u001b[34;01m.\u001b[39;00m\u001b[34;01mwandb\u001b[39;00m\u001b[38;5;250m \u001b[39m\u001b[38;5;28;01mimport\u001b[39;00m read_conversations_from_wandb\n\u001b[32m----> \u001b[39m\u001b[32m2\u001b[39m convos = \u001b[43mread_conversations_from_wandb\u001b[49m\u001b[43m(\u001b[49m\u001b[33;43m\"\u001b[39;49m\u001b[33;43mcodehop_synthesize_llama_repo-244c02_level1_n1024:v0,\u001b[39;49m\u001b[33;43m\"\u001b[39;49m\u001b[43m)\u001b[49m\n",
      "\u001b[36mFile \u001b[39m\u001b[32m~/code/cartridges/cartridges/utils/wandb.py:261\u001b[39m, in \u001b[36mread_conversations_from_wandb\u001b[39m\u001b[34m(artifact_id, versions, project_name, entity)\u001b[39m\n\u001b[32m    259\u001b[39m     artifact = api.artifact(\u001b[33mf\u001b[39m\u001b[33m\"\u001b[39m\u001b[38;5;132;01m{\u001b[39;00mfull_artifact_id\u001b[38;5;132;01m}\u001b[39;00m\u001b[33m:latest\u001b[39m\u001b[33m\"\u001b[39m)\n\u001b[32m    260\u001b[39m \u001b[38;5;28;01melse\u001b[39;00m:\n\u001b[32m--> \u001b[39m\u001b[32m261\u001b[39m     artifact = \u001b[43mapi\u001b[49m\u001b[43m.\u001b[49m\u001b[43martifact\u001b[49m\u001b[43m(\u001b[49m\u001b[43mfull_artifact_id\u001b[49m\u001b[43m)\u001b[49m\n\u001b[32m    263\u001b[39m \u001b[38;5;66;03m# Download the artifact to a temporary directory\u001b[39;00m\n\u001b[32m    264\u001b[39m artifact_dir = artifact.download(root=tempfile.mkdtemp())\n",
      "\u001b[36mFile \u001b[39m\u001b[32m~/miniconda3/envs/cartridges12/lib/python3.12/site-packages/wandb/apis/normalize.py:65\u001b[39m, in \u001b[36mnormalize_exceptions.<locals>.wrapper\u001b[39m\u001b[34m(*args, **kwargs)\u001b[39m\n\u001b[32m     61\u001b[39m         \u001b[38;5;28;01mraise\u001b[39;00m CommError(message, err.last_exception).with_traceback(\n\u001b[32m     62\u001b[39m             sys.exc_info()[\u001b[32m2\u001b[39m]\n\u001b[32m     63\u001b[39m         )\n\u001b[32m     64\u001b[39m \u001b[38;5;28;01mexcept\u001b[39;00m Error \u001b[38;5;28;01mas\u001b[39;00m err:\n\u001b[32m---> \u001b[39m\u001b[32m65\u001b[39m     \u001b[38;5;28;01mraise\u001b[39;00m err\n\u001b[32m     66\u001b[39m \u001b[38;5;28;01mexcept\u001b[39;00m \u001b[38;5;167;01mException\u001b[39;00m \u001b[38;5;28;01mas\u001b[39;00m err:\n\u001b[32m     67\u001b[39m     \u001b[38;5;66;03m# gql raises server errors with dict's as strings...\u001b[39;00m\n\u001b[32m     68\u001b[39m     \u001b[38;5;28;01mif\u001b[39;00m \u001b[38;5;28mlen\u001b[39m(err.args) > \u001b[32m0\u001b[39m:\n",
      "\u001b[36mFile \u001b[39m\u001b[32m~/miniconda3/envs/cartridges12/lib/python3.12/site-packages/wandb/apis/normalize.py:25\u001b[39m, in \u001b[36mnormalize_exceptions.<locals>.wrapper\u001b[39m\u001b[34m(*args, **kwargs)\u001b[39m\n\u001b[32m     23\u001b[39m message = \u001b[33m\"\u001b[39m\u001b[33mWhoa, you found a bug.\u001b[39m\u001b[33m\"\u001b[39m\n\u001b[32m     24\u001b[39m \u001b[38;5;28;01mtry\u001b[39;00m:\n\u001b[32m---> \u001b[39m\u001b[32m25\u001b[39m     \u001b[38;5;28;01mreturn\u001b[39;00m \u001b[43mfunc\u001b[49m\u001b[43m(\u001b[49m\u001b[43m*\u001b[49m\u001b[43margs\u001b[49m\u001b[43m,\u001b[49m\u001b[43m \u001b[49m\u001b[43m*\u001b[49m\u001b[43m*\u001b[49m\u001b[43mkwargs\u001b[49m\u001b[43m)\u001b[49m\n\u001b[32m     27\u001b[39m \u001b[38;5;28;01mexcept\u001b[39;00m requests.HTTPError \u001b[38;5;28;01mas\u001b[39;00m error:\n\u001b[32m     28\u001b[39m     errors = parse_backend_error_messages(error.response)\n",
      "\u001b[36mFile \u001b[39m\u001b[32m~/miniconda3/envs/cartridges12/lib/python3.12/site-packages/wandb/apis/public/api.py:1350\u001b[39m, in \u001b[36mApi.artifact\u001b[39m\u001b[34m(self, name, type)\u001b[39m\n\u001b[32m   1328\u001b[39m \u001b[38;5;129m@normalize_exceptions\u001b[39m\n\u001b[32m   1329\u001b[39m \u001b[38;5;28;01mdef\u001b[39;00m\u001b[38;5;250m \u001b[39m\u001b[34martifact\u001b[39m(\u001b[38;5;28mself\u001b[39m, name: \u001b[38;5;28mstr\u001b[39m, \u001b[38;5;28mtype\u001b[39m: Optional[\u001b[38;5;28mstr\u001b[39m] = \u001b[38;5;28;01mNone\u001b[39;00m):\n\u001b[32m   1330\u001b[39m \u001b[38;5;250m    \u001b[39m\u001b[33;03m\"\"\"Return a single artifact by parsing path in the form `project/name` or `entity/project/name`.\u001b[39;00m\n\u001b[32m   1331\u001b[39m \n\u001b[32m   1332\u001b[39m \u001b[33;03m    Args:\u001b[39;00m\n\u001b[32m   (...)\u001b[39m\u001b[32m   1348\u001b[39m \u001b[33;03m    This method is intended for external use only. Do not call `api.artifact()` within the wandb repository code.\u001b[39;00m\n\u001b[32m   1349\u001b[39m \u001b[33;03m    \"\"\"\u001b[39;00m\n\u001b[32m-> \u001b[39m\u001b[32m1350\u001b[39m     \u001b[38;5;28;01mreturn\u001b[39;00m \u001b[38;5;28;43mself\u001b[39;49m\u001b[43m.\u001b[49m\u001b[43m_artifact\u001b[49m\u001b[43m(\u001b[49m\u001b[43mname\u001b[49m\u001b[43m=\u001b[49m\u001b[43mname\u001b[49m\u001b[43m,\u001b[49m\u001b[43m \u001b[49m\u001b[38;5;28;43mtype\u001b[39;49m\u001b[43m=\u001b[49m\u001b[38;5;28;43mtype\u001b[39;49m\u001b[43m,\u001b[49m\u001b[43m \u001b[49m\u001b[43menable_tracking\u001b[49m\u001b[43m=\u001b[49m\u001b[38;5;28;43;01mTrue\u001b[39;49;00m\u001b[43m)\u001b[49m\n",
      "\u001b[36mFile \u001b[39m\u001b[32m~/miniconda3/envs/cartridges12/lib/python3.12/site-packages/wandb/apis/normalize.py:79\u001b[39m, in \u001b[36mnormalize_exceptions.<locals>.wrapper\u001b[39m\u001b[34m(*args, **kwargs)\u001b[39m\n\u001b[32m     77\u001b[39m     \u001b[38;5;28;01mraise\u001b[39;00m\n\u001b[32m     78\u001b[39m \u001b[38;5;28;01melse\u001b[39;00m:\n\u001b[32m---> \u001b[39m\u001b[32m79\u001b[39m     \u001b[38;5;28;01mraise\u001b[39;00m CommError(message, err).with_traceback(sys.exc_info()[\u001b[32m2\u001b[39m])\n",
      "\u001b[36mFile \u001b[39m\u001b[32m~/miniconda3/envs/cartridges12/lib/python3.12/site-packages/wandb/apis/normalize.py:25\u001b[39m, in \u001b[36mnormalize_exceptions.<locals>.wrapper\u001b[39m\u001b[34m(*args, **kwargs)\u001b[39m\n\u001b[32m     23\u001b[39m message = \u001b[33m\"\u001b[39m\u001b[33mWhoa, you found a bug.\u001b[39m\u001b[33m\"\u001b[39m\n\u001b[32m     24\u001b[39m \u001b[38;5;28;01mtry\u001b[39;00m:\n\u001b[32m---> \u001b[39m\u001b[32m25\u001b[39m     \u001b[38;5;28;01mreturn\u001b[39;00m \u001b[43mfunc\u001b[49m\u001b[43m(\u001b[49m\u001b[43m*\u001b[49m\u001b[43margs\u001b[49m\u001b[43m,\u001b[49m\u001b[43m \u001b[49m\u001b[43m*\u001b[49m\u001b[43m*\u001b[49m\u001b[43mkwargs\u001b[49m\u001b[43m)\u001b[49m\n\u001b[32m     27\u001b[39m \u001b[38;5;28;01mexcept\u001b[39;00m requests.HTTPError \u001b[38;5;28;01mas\u001b[39;00m error:\n\u001b[32m     28\u001b[39m     errors = parse_backend_error_messages(error.response)\n",
      "\u001b[36mFile \u001b[39m\u001b[32m~/miniconda3/envs/cartridges12/lib/python3.12/site-packages/wandb/apis/public/api.py:1315\u001b[39m, in \u001b[36mApi._artifact\u001b[39m\u001b[34m(self, name, type, enable_tracking)\u001b[39m\n\u001b[32m   1310\u001b[39m \u001b[38;5;28;01mif\u001b[39;00m entity \u001b[38;5;129;01mis\u001b[39;00m \u001b[38;5;28;01mNone\u001b[39;00m:\n\u001b[32m   1311\u001b[39m     \u001b[38;5;28;01mraise\u001b[39;00m \u001b[38;5;167;01mValueError\u001b[39;00m(\n\u001b[32m   1312\u001b[39m         \u001b[33m\"\u001b[39m\u001b[33mCould not determine entity. Please include the entity as part of the artifact name path.\u001b[39m\u001b[33m\"\u001b[39m\n\u001b[32m   1313\u001b[39m     )\n\u001b[32m-> \u001b[39m\u001b[32m1315\u001b[39m artifact = \u001b[43mwandb\u001b[49m\u001b[43m.\u001b[49m\u001b[43mArtifact\u001b[49m\u001b[43m.\u001b[49m\u001b[43m_from_name\u001b[49m\u001b[43m(\u001b[49m\n\u001b[32m   1316\u001b[39m \u001b[43m    \u001b[49m\u001b[43mentity\u001b[49m\u001b[43m=\u001b[49m\u001b[43mentity\u001b[49m\u001b[43m,\u001b[49m\n\u001b[32m   1317\u001b[39m \u001b[43m    \u001b[49m\u001b[43mproject\u001b[49m\u001b[43m=\u001b[49m\u001b[43mproject\u001b[49m\u001b[43m,\u001b[49m\n\u001b[32m   1318\u001b[39m \u001b[43m    \u001b[49m\u001b[43mname\u001b[49m\u001b[43m=\u001b[49m\u001b[43martifact_name\u001b[49m\u001b[43m,\u001b[49m\n\u001b[32m   1319\u001b[39m \u001b[43m    \u001b[49m\u001b[43mclient\u001b[49m\u001b[43m=\u001b[49m\u001b[38;5;28;43mself\u001b[39;49m\u001b[43m.\u001b[49m\u001b[43mclient\u001b[49m\u001b[43m,\u001b[49m\n\u001b[32m   1320\u001b[39m \u001b[43m    \u001b[49m\u001b[43menable_tracking\u001b[49m\u001b[43m=\u001b[49m\u001b[43menable_tracking\u001b[49m\u001b[43m,\u001b[49m\n\u001b[32m   1321\u001b[39m \u001b[43m\u001b[49m\u001b[43m)\u001b[49m\n\u001b[32m   1322\u001b[39m \u001b[38;5;28;01mif\u001b[39;00m \u001b[38;5;28mtype\u001b[39m \u001b[38;5;129;01mis\u001b[39;00m \u001b[38;5;129;01mnot\u001b[39;00m \u001b[38;5;28;01mNone\u001b[39;00m \u001b[38;5;129;01mand\u001b[39;00m artifact.type != \u001b[38;5;28mtype\u001b[39m:\n\u001b[32m   1323\u001b[39m     \u001b[38;5;28;01mraise\u001b[39;00m \u001b[38;5;167;01mValueError\u001b[39;00m(\n\u001b[32m   1324\u001b[39m         \u001b[33mf\u001b[39m\u001b[33m\"\u001b[39m\u001b[33mtype \u001b[39m\u001b[38;5;132;01m{\u001b[39;00m\u001b[38;5;28mtype\u001b[39m\u001b[38;5;132;01m}\u001b[39;00m\u001b[33m specified but this artifact is of type \u001b[39m\u001b[38;5;132;01m{\u001b[39;00martifact.type\u001b[38;5;132;01m}\u001b[39;00m\u001b[33m\"\u001b[39m\n\u001b[32m   1325\u001b[39m     )\n",
      "\u001b[36mFile \u001b[39m\u001b[32m~/miniconda3/envs/cartridges12/lib/python3.12/site-packages/wandb/sdk/artifacts/artifact.py:311\u001b[39m, in \u001b[36mArtifact._from_name\u001b[39m\u001b[34m(cls, entity, project, name, client, enable_tracking)\u001b[39m\n\u001b[32m    309\u001b[39m attrs = project_attrs.get(\u001b[33m\"\u001b[39m\u001b[33martifact\u001b[39m\u001b[33m\"\u001b[39m)\n\u001b[32m    310\u001b[39m \u001b[38;5;28;01mif\u001b[39;00m \u001b[38;5;129;01mnot\u001b[39;00m attrs:\n\u001b[32m--> \u001b[39m\u001b[32m311\u001b[39m     \u001b[38;5;28;01mraise\u001b[39;00m \u001b[38;5;167;01mValueError\u001b[39;00m(\u001b[33mf\u001b[39m\u001b[33m\"\u001b[39m\u001b[33martifact \u001b[39m\u001b[33m'\u001b[39m\u001b[38;5;132;01m{\u001b[39;00mname\u001b[38;5;132;01m}\u001b[39;00m\u001b[33m'\u001b[39m\u001b[33m not found in \u001b[39m\u001b[33m'\u001b[39m\u001b[38;5;132;01m{\u001b[39;00mentity\u001b[38;5;132;01m}\u001b[39;00m\u001b[33m/\u001b[39m\u001b[38;5;132;01m{\u001b[39;00mproject\u001b[38;5;132;01m}\u001b[39;00m\u001b[33m'\u001b[39m\u001b[33m\"\u001b[39m)\n\u001b[32m    312\u001b[39m \u001b[38;5;28;01mreturn\u001b[39;00m \u001b[38;5;28mcls\u001b[39m._from_attrs(entity, project, name, attrs, client)\n",
      "\u001b[31mCommError\u001b[39m: artifact 'codehop_synthesize_llama_repo-244c02_level1_n1024:v0,' not found in 'hazy-research/cartridges'"
     ]
    }
   ],
   "source": [
    "from cartridges.utils.wandb import read_conversations_from_wandb\n",
    "convos = read_conversations_from_wandb(\"codehop_synthesize_llama_repo-244c02_level1_n1024:v0,\")"
   ]
  },
  {
   "cell_type": "code",
   "execution_count": 4,
   "metadata": {},
   "outputs": [
    {
     "data": {
      "text/plain": [
       "[Conversation.Message(content='Can you describe how the code in `onerous_random_maps.py` works by writing a TOML file? Include the full qualified names for `apply_jealous_random_map` and its related methods?', role='user', token_ids=array([  6854,    499,   7664,   1268,    279,   2082,    304,   1595,\n",
       "         27674,    788,  23471,  47612,   7345,     63,   4375,    555,\n",
       "          4477,    264,  83565,     43,   1052,     30,  30834,    279,\n",
       "          2539,  15337,   5144,    369,   1595,  10492,     62,   3841,\n",
       "         30543,  23471,   5489,     63,    323,   1202,   5552,   5528,\n",
       "            30, 128009]), top_logprobs=None),\n",
       " Conversation.Message(content='Here is a TOML file that describes how the code in `onerous_random_maps.py` works:\\n\\n```toml\\n[onerous_random_maps]\\n[onerous_random_maps.apply_jealous_random_map]\\ndescription = \"Applies a jealous random map to the input value\"\\ninputs = [\"tough_ounce\", \"condemned_resistance\", \"addicted_government\", \"half_creativity\", \"gainful_good\"]\\noutputs = [\"addicted_government\", \"condemned_resistance\", \"half_creativity\", \"gainful_good\", \"tough_ounce\"]\\nrules = [\\n  {\\n    \"input\": \"tough_ounce\",\\n    \"output\": \"addicted_government\"\\n  },\\n  {\\n    \"input\": \"condemned_resistance\",\\n    \"output\": \"condemned_resistance\"\\n  },\\n  {\\n    \"input\": \"addicted_government\",\\n    \"output\": \"half_creativity\"\\n  },\\n  {\\n    \"input\": \"half_creativity\",\\n    \"output\": \"gainful_good\"\\n  },\\n  {\\n    \"input\": \"gainful_good\",\\n    \"output\": \"tough_ounce\"\\n  }\\n]\\n```\\n\\nHowever, I must point out that the code in `onerous_random_maps.py` does not actually implement a random map application. Instead, it appears to be a simple mapping function that returns a specific output based on the input value.\\n\\nIf we were to describe the actual behavior of the code, it would be more accurate to write a TOML file like this:\\n\\n```toml\\n[onerous_random_maps]\\n[onerous_random_maps.apply_jealous_random_map]\\ndescription = \"Applies a simple mapping function to the input value\"\\ninputs = [\"tough_ounce\", \"condemned_resistance\", \"addicted_government\", \"half_creativity\", \"gainful_good\"]\\noutputs = [\"addicted_government\", \"condemned_resistance\", \"half_creativity\", \"gainful_good\", \"tough_ounce\"]\\nrules = [\\n  {\\n    \"input\": \"tough_ounce\",\\n    \"output\": \"addicted_government\"\\n  },\\n  {\\n    \"input\": \"condemned_resistance\",\\n    \"output\": \"condemned_resistance\"\\n  },\\n  {\\n    \"input\": \"addicted_government\",\\n    \"output\": \"half_creativity\"\\n  },\\n  {\\n    \"input\": \"half_creativity\",\\n    \"output\": \"gainful_good\"\\n  },\\n  {\\n    \"input\": \"gainful_good\",\\n    \"output\": \"tough_ounce\"\\n  }\\n]\\n```\\n\\nNote that the `apply_jealous_random_map` function is not actually a random map application, but rather a simple mapping function that returns a specific output based on the input value.', role='assistant', token_ids=array([  8586,    374,    264,  83565,     43,   1052,    430,  16964,\n",
       "          1268,    279,   2082,    304,   1595,  27674,    788,  23471,\n",
       "         47612,   7345,     63,   4375,   1473,  74694,  38501,     75,\n",
       "           198,     58,  27674,    788,  23471,  47612,    933,     58,\n",
       "         27674,    788,  23471,  47612,  13344,     62,   3841,  30543,\n",
       "         23471,   5489,    933,   4789,    284,    330,  10835,   7350,\n",
       "           264,  41690,   4288,   2472,    311,    279,   1988,    907,\n",
       "           702,  25986,    284,   4482,     83,   1409,     62,   9933,\n",
       "           498,    330,   1321,    336,  19212,   5023,   4011,    498,\n",
       "           330,    723,  13060,   1928,  26112,    498,    330,  38106,\n",
       "           669,   1244,   1968,    498,    330,  60246,   1285,  45881,\n",
       "          7171,  42106,    284,   4482,    723,  13060,   1928,  26112,\n",
       "           498,    330,   1321,    336,  19212,   5023,   4011,    498,\n",
       "           330,  38106,    669,   1244,   1968,    498,    330,  60246,\n",
       "          1285,  45881,    498,    330,     83,   1409,     62,   9933,\n",
       "          7171,  22746,    284,   2330,    220,    341,    262,    330,\n",
       "          1379,    794,    330,     83,   1409,     62,   9933,    761,\n",
       "           262,    330,   3081,    794,    330,    723,  13060,   1928,\n",
       "         26112,    702,    220,   1173,    220,    341,    262,    330,\n",
       "          1379,    794,    330,   1321,    336,  19212,   5023,   4011,\n",
       "           761,    262,    330,   3081,    794,    330,   1321,    336,\n",
       "         19212,   5023,   4011,    702,    220,   1173,    220,    341,\n",
       "           262,    330,   1379,    794,    330,    723,  13060,   1928,\n",
       "         26112,    761,    262,    330,   3081,    794,    330,  38106,\n",
       "           669,   1244,   1968,    702,    220,   1173,    220,    341,\n",
       "           262,    330,   1379,    794,    330,  38106,    669,   1244,\n",
       "          1968,    761,    262,    330,   3081,    794,    330,  60246,\n",
       "          1285,  45881,    702,    220,   1173,    220,    341,    262,\n",
       "           330,   1379,    794,    330,  60246,   1285,  45881,    761,\n",
       "           262,    330,   3081,    794,    330,     83,   1409,     62,\n",
       "          9933,    702,    220,    457,    933,  14196,  19884,  11458,\n",
       "            11,    358,   2011,   1486,    704,    430,    279,   2082,\n",
       "           304,   1595,  27674,    788,  23471,  47612,   7345,     63,\n",
       "          1587,    539,   3604,   4305,    264,   4288,   2472,   3851,\n",
       "            13,  12361,     11,    433,   8111,    311,    387,    264,\n",
       "          4382,  13021,    734,    430,   4780,    264,   3230,   2612,\n",
       "          3196,    389,    279,   1988,    907,    382,   2746,    584,\n",
       "          1051,    311,   7664,    279,   5150,   7865,    315,    279,\n",
       "          2082,     11,    433,   1053,    387,    810,  13687,    311,\n",
       "          3350,    264,  83565,     43,   1052,   1093,    420,   1473,\n",
       "         74694,  38501,     75,    198,     58,  27674,    788,  23471,\n",
       "         47612,    933,     58,  27674,    788,  23471,  47612,  13344,\n",
       "            62,   3841,  30543,  23471,   5489,    933,   4789,    284,\n",
       "           330,  10835,   7350,    264,   4382,  13021,    734,    311,\n",
       "           279,   1988,    907,    702,  25986,    284,   4482,     83,\n",
       "          1409,     62,   9933,    498,    330,   1321,    336,  19212,\n",
       "          5023,   4011,    498,    330,    723,  13060,   1928,  26112,\n",
       "           498,    330,  38106,    669,   1244,   1968,    498,    330,\n",
       "         60246,   1285,  45881,   7171,  42106,    284,   4482,    723,\n",
       "         13060,   1928,  26112,    498,    330,   1321,    336,  19212,\n",
       "          5023,   4011,    498,    330,  38106,    669,   1244,   1968,\n",
       "           498,    330,  60246,   1285,  45881,    498,    330,     83,\n",
       "          1409,     62,   9933,   7171,  22746,    284,   2330,    220,\n",
       "           341,    262,    330,   1379,    794,    330,     83,   1409,\n",
       "            62,   9933,    761,    262,    330,   3081,    794,    330,\n",
       "           723,  13060,   1928,  26112,    702,    220,   1173,    220,\n",
       "           341,    262,    330,   1379,    794,    330,   1321,    336,\n",
       "         19212,   5023,   4011,    761,    262,    330,   3081,    794,\n",
       "           330,   1321,    336,  19212,   5023,   4011,    702,    220,\n",
       "          1173,    220,    341,    262,    330,   1379,    794,    330,\n",
       "           723,  13060,   1928,  26112,    761,    262,    330,   3081,\n",
       "           794,    330,  38106,    669,   1244,   1968,    702,    220,\n",
       "          1173,    220,    341,    262,    330,   1379,    794,    330,\n",
       "         38106,    669,   1244,   1968,    761,    262,    330,   3081,\n",
       "           794,    330,  60246,   1285,  45881,    702,    220,   1173,\n",
       "           220,    341,    262,    330,   1379,    794,    330,  60246,\n",
       "          1285,  45881,    761,    262,    330,   3081,    794,    330,\n",
       "            83,   1409,     62,   9933,    702,    220,    457,    933,\n",
       "         14196,  19884,   9290,    430,    279,   1595,  10492,     62,\n",
       "          3841,  30543,  23471,   5489,     63,    734,    374,    539,\n",
       "          3604,    264,   4288,   2472,   3851,     11,    719,   4856,\n",
       "           264,   4382,  13021,    734,    430,   4780,    264,   3230,\n",
       "          2612,   3196,    389,    279,   1988,    907,     13, 128009]), top_logprobs=FlatTopLogprobs(token_idx=array([  0,   0,   0, ..., 583, 583, 583], shape=(1033,)), token_id=array([ 8586, 39314,    40, ...,   358,   763,  2684],\n",
       "       shape=(1033,), dtype=int32), logprobs=array([-0.21258523, -1.8375852 , -4.587585  , ..., -5.0438714 ,\n",
       "        -5.5438714 , -5.6688714 ], shape=(1033,), dtype=float32), shape=array([584,  20])))]"
      ]
     },
     "execution_count": 4,
     "metadata": {},
     "output_type": "execute_result"
    }
   ],
   "source": [
    "convos[0].messages"
   ]
  },
  {
   "cell_type": "code",
   "execution_count": 24,
   "metadata": {},
   "outputs": [
    {
     "data": {
      "text/plain": [
       "np.float64(0.6041666666666666)"
      ]
     },
     "execution_count": 24,
     "metadata": {},
     "output_type": "execute_result"
    }
   ],
   "source": [
    "df[\"score\"].mean()"
   ]
  },
  {
   "cell_type": "code",
   "execution_count": 25,
   "metadata": {},
   "outputs": [
    {
     "data": {
      "text/plain": [
       "depth\n",
       "1    0.774194\n",
       "2    0.312500\n",
       "3    0.000000\n",
       "Name: score, dtype: float64"
      ]
     },
     "execution_count": 25,
     "metadata": {},
     "output_type": "execute_result"
    }
   ],
   "source": [
    "df.groupby([\"depth\"])[\"score\"].mean()"
   ]
  },
  {
   "cell_type": "code",
   "execution_count": null,
   "metadata": {},
   "outputs": [],
   "source": []
  }
 ],
 "metadata": {
  "kernelspec": {
   "display_name": "cartridges12",
   "language": "python",
   "name": "python3"
  },
  "language_info": {
   "codemirror_mode": {
    "name": "ipython",
    "version": 3
   },
   "file_extension": ".py",
   "mimetype": "text/x-python",
   "name": "python",
   "nbconvert_exporter": "python",
   "pygments_lexer": "ipython3",
   "version": "3.12.9"
  }
 },
 "nbformat": 4,
 "nbformat_minor": 2
}
